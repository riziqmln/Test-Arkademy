{
 "cells": [
  {
   "cell_type": "code",
   "execution_count": null,
   "metadata": {},
   "outputs": [],
   "source": [
    "def deret():\n",
    "    x = int(input(\"masukkan x :\"))\n",
    "    y = int(input(\"masukkan y :\"))\n",
    "    for i in x:\n",
    "        if i > y :\n",
    "            continue\n",
    "        else:\n",
    "            break\n",
    "\n",
    "deret()"
   ]
  },
  {
   "cell_type": "code",
   "execution_count": null,
   "metadata": {},
   "outputs": [],
   "source": [
    "n = int(input())\n",
    "length = 0\n",
    "while True:\n",
    "    length += 1\n",
    "    n //= 10\n",
    "    if n == 0:\n",
    "        break\n",
    "print('Length is', length)"
   ]
  }
 ],
 "metadata": {
  "kernelspec": {
   "display_name": "Python 3",
   "language": "python",
   "name": "python3"
  },
  "language_info": {
   "codemirror_mode": {
    "name": "ipython",
    "version": 3
   },
   "file_extension": ".py",
   "mimetype": "text/x-python",
   "name": "python",
   "nbconvert_exporter": "python",
   "pygments_lexer": "ipython3",
   "version": "3.7.3"
  }
 },
 "nbformat": 4,
 "nbformat_minor": 2
}
