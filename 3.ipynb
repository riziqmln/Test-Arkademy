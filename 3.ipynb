{
 "cells": [
  {
   "cell_type": "code",
   "execution_count": 5,
   "metadata": {},
   "outputs": [
    {
     "name": "stdout",
     "output_type": "stream",
     "text": [
      "Masukan Kata: jobbu bawa 2 buku\n",
      "3 / 4\n"
     ]
    }
   ],
   "source": [
    "import re\n",
    "def jumlah_kata():\n",
    "    masukan_kata = input('Masukan Kata: ')\n",
    "    jadikan_list = masukan_kata.split()\n",
    "    hitung_isi = len(jadikan_list)        \n",
    "    hitung_kata = len(re.findall(\"[a-zA-Z_]+\", masukan_kata))\n",
    "    if hitung_kata == 0:\n",
    "        print (\"input parameter harus string\")\n",
    "    else:\n",
    "        print (hitung_kata, \"/\",  hitung_isi)\n",
    "    \n",
    "\n",
    "jumlah_kata()"
   ]
  },
  {
   "cell_type": "code",
   "execution_count": null,
   "metadata": {},
   "outputs": [],
   "source": []
  }
 ],
 "metadata": {
  "kernelspec": {
   "display_name": "Python 3",
   "language": "python",
   "name": "python3"
  },
  "language_info": {
   "codemirror_mode": {
    "name": "ipython",
    "version": 3
   },
   "file_extension": ".py",
   "mimetype": "text/x-python",
   "name": "python",
   "nbconvert_exporter": "python",
   "pygments_lexer": "ipython3",
   "version": "3.7.3"
  }
 },
 "nbformat": 4,
 "nbformat_minor": 2
}
