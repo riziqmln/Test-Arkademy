{
 "cells": [
  {
   "cell_type": "code",
   "execution_count": null,
   "metadata": {},
   "outputs": [],
   "source": [
    "import re\n",
    "username = input('Username :');\n",
    "if re.findall(r'[A-Z@!#$%^&*()<>?/\\|}{~:]', username):\n",
    "    print ('False')\n",
    "elif len(username) < 5 or len(username) > 12:\n",
    "    print('False')\n",
    "else :\n",
    "    print(True)"
   ]
  },
  {
   "cell_type": "code",
   "execution_count": null,
   "metadata": {},
   "outputs": [],
   "source": [
    "password = input('Password :');\n",
    "if re.match(r'[A-Z]+[0-9]+[@#$%^&+=]', password):\n",
    "            print('True')\n",
    "elif len(password) ==7:\n",
    "    print('True')\n",
    "else:\n",
    "    print('False')"
   ]
  },
  {
   "cell_type": "code",
   "execution_count": null,
   "metadata": {},
   "outputs": [],
   "source": []
  }
 ],
 "metadata": {
  "kernelspec": {
   "display_name": "Python 3",
   "language": "python",
   "name": "python3"
  },
  "language_info": {
   "codemirror_mode": {
    "name": "ipython",
    "version": 3
   },
   "file_extension": ".py",
   "mimetype": "text/x-python",
   "name": "python",
   "nbconvert_exporter": "python",
   "pygments_lexer": "ipython3",
   "version": "3.7.3"
  }
 },
 "nbformat": 4,
 "nbformat_minor": 2
}
