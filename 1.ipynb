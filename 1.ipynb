{
 "cells": [
  {
   "cell_type": "code",
   "execution_count": 1,
   "metadata": {},
   "outputs": [],
   "source": [
    "import numpy as np"
   ]
  },
  {
   "cell_type": "code",
   "execution_count": 6,
   "metadata": {},
   "outputs": [
    {
     "name": "stdout",
     "output_type": "stream",
     "text": [
      "Name:  Riziq\n",
      "Age:  22\n",
      "Address:  Jakarta Timur\n",
      "Hobbies:  bermain futsal, bersepeda, gaming\n",
      "Married:  False\n",
      "School(Name, year_in, year_out, Major):  UI, 2015, 2019, Geofisika\n",
      "Skills (Python, SQL):  Beginner, Beginner\n",
      "interest_in_Coding:  True\n"
     ]
    }
   ],
   "source": [
    "def biodata (name, age, address, hobbies, is_married, list_school, skills, interest_in_coding):\n",
    "    print(\"Name: \", name)\n",
    "    print(\"Age: \", age)\n",
    "    print (\"Address: \", address)\n",
    "    print(\"Hobbies: \", hobbies)\n",
    "    print(\"Married: \", is_married)\n",
    "    print(\"School(Name, year_in, year_out, Major): \", list_school)\n",
    "    print(\"Skills (Python, SQL): \", skills)\n",
    "    print(\"interest_in_Coding: \", interest_in_coding)\n",
    "    return \n",
    "\n",
    "#mengisi biodata\n",
    "name =  \"Riziq\"\n",
    "age = 22\n",
    "address = \"Jakarta Timur\"\n",
    "hobbies = np.array(\"bermain futsal, bersepeda, gaming\")\n",
    "is_married = False\n",
    "list_school = np.array(\"UI, 2015, 2019, Geofisika\")\n",
    "skills = np.array(\"Beginner, Beginner\")\n",
    "interest_in_coding = True\n",
    "\n",
    "biodata (name, age, address, hobbies, is_married, list_school, skills, interest_in_coding)"
   ]
  },
  {
   "cell_type": "markdown",
   "metadata": {},
   "source": [
    "# Convert from Python to Json"
   ]
  },
  {
   "cell_type": "code",
   "execution_count": 15,
   "metadata": {},
   "outputs": [
    {
     "name": "stdout",
     "output_type": "stream",
     "text": [
      "{\"name\": \"Riziq\", \"Age\": 22, \"Address\": \"Jakarta Timur\", \"Hobbies\": \"bermain futsal, bersepeda, gaming\", \"Married\": false, \"School\": \"UI, 2015, 2019, Geofisika\", \"Skills (Python, SQL)\": \"Beginner, Beginner\", \"interest_in_coding\": true}\n"
     ]
    }
   ],
   "source": [
    "import json\n",
    "\n",
    "#biodata dalam bentuk dict\n",
    "bio = {\n",
    "    \"name\": \"Riziq\", \"Age\": 22, \"Address\": \"Jakarta Timur\", \"Hobbies\": \"bermain futsal, bersepeda, gaming\", \"Married\": False, \"School\": \"UI, 2015, 2019, Geofisika\", \"Skills (Python, SQL)\": \"Beginner, Beginner\", \"interest_in_coding\": True\n",
    "}\n",
    "\n",
    "#convert ke Json\n",
    "y = json.dumps(bio)\n",
    "\n",
    "#melihat hasil convert Json\n",
    "print(y)\n"
   ]
  },
  {
   "cell_type": "code",
   "execution_count": null,
   "metadata": {},
   "outputs": [],
   "source": []
  }
 ],
 "metadata": {
  "kernelspec": {
   "display_name": "Python 3",
   "language": "python",
   "name": "python3"
  },
  "language_info": {
   "codemirror_mode": {
    "name": "ipython",
    "version": 3
   },
   "file_extension": ".py",
   "mimetype": "text/x-python",
   "name": "python",
   "nbconvert_exporter": "python",
   "pygments_lexer": "ipython3",
   "version": "3.7.3"
  }
 },
 "nbformat": 4,
 "nbformat_minor": 2
}
